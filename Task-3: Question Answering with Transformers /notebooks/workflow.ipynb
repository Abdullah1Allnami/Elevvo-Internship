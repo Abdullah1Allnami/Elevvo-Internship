{
 "cells": [
  {
   "cell_type": "code",
   "execution_count": null,
   "metadata": {
    "trusted": true
   },
   "outputs": [],
   "source": [
    "%pip install evaluate"
   ]
  },
  {
   "cell_type": "markdown",
   "metadata": {},
   "source": [
    "# models/get_models.py"
   ]
  },
  {
   "cell_type": "code",
   "execution_count": 2,
   "metadata": {
    "execution": {
     "iopub.execute_input": "2025-09-10T14:28:47.280160Z",
     "iopub.status.busy": "2025-09-10T14:28:47.279916Z",
     "iopub.status.idle": "2025-09-10T14:28:56.358282Z",
     "shell.execute_reply": "2025-09-10T14:28:56.357367Z",
     "shell.execute_reply.started": "2025-09-10T14:28:47.280137Z"
    },
    "trusted": true
   },
   "outputs": [],
   "source": [
    "from transformers import AutoModelForQuestionAnswering, AutoTokenizer\n",
    "import torch\n",
    "\n",
    "def get_model_and_tokenizer(model_checkpoint: str = \"bert-base-cased\", device: str = None):\n",
    "    if device is None:\n",
    "        device = torch.device(\"cuda\") if torch.cuda.is_available() else torch.device(\"cpu\")\n",
    "    \n",
    "    model = AutoModelForQuestionAnswering.from_pretrained(model_checkpoint)\n",
    "    tokenizer = AutoTokenizer.from_pretrained(model_checkpoint)\n",
    "    \n",
    "    return model, tokenizer, device\n",
    "\n",
    "def load_fine_tuned_model(model_path: str, device: str = None):\n",
    "    if device is None:\n",
    "        device = torch.device(\"cuda\") if torch.cuda.is_available() else torch.device(\"cpu\")\n",
    "    \n",
    "    model = AutoModelForQuestionAnswering.from_pretrained(model_path)\n",
    "    tokenizer = AutoTokenizer.from_pretrained(model_path)\n",
    "    \n",
    "    model.to(device)\n",
    "    return model, tokenizer, device"
   ]
  },
  {
   "cell_type": "markdown",
   "metadata": {},
   "source": [
    "# src/utils/metrics.py"
   ]
  },
  {
   "cell_type": "code",
   "execution_count": 3,
   "metadata": {
    "execution": {
     "iopub.execute_input": "2025-09-10T14:28:56.359624Z",
     "iopub.status.busy": "2025-09-10T14:28:56.359233Z",
     "iopub.status.idle": "2025-09-10T14:29:18.274936Z",
     "shell.execute_reply": "2025-09-10T14:29:18.274237Z",
     "shell.execute_reply.started": "2025-09-10T14:28:56.359602Z"
    },
    "trusted": true
   },
   "outputs": [
    {
     "name": "stderr",
     "output_type": "stream",
     "text": [
      "2025-09-10 14:29:03.223548: E external/local_xla/xla/stream_executor/cuda/cuda_fft.cc:477] Unable to register cuFFT factory: Attempting to register factory for plugin cuFFT when one has already been registered\n",
      "WARNING: All log messages before absl::InitializeLog() is called are written to STDERR\n",
      "E0000 00:00:1757514543.432360      36 cuda_dnn.cc:8310] Unable to register cuDNN factory: Attempting to register factory for plugin cuDNN when one has already been registered\n",
      "E0000 00:00:1757514543.492228      36 cuda_blas.cc:1418] Unable to register cuBLAS factory: Attempting to register factory for plugin cuBLAS when one has already been registered\n"
     ]
    }
   ],
   "source": [
    "from tqdm.auto import tqdm\n",
    "import collections\n",
    "import numpy as np\n",
    "import evaluate\n",
    "\n",
    "def compute_metrics(start_logits, end_logits, features, examples, n_best=20, max_answer_length=30):\n",
    "    metric = evaluate.load(\"squad\")\n",
    "    \n",
    "    example_to_features = collections.defaultdict(list)\n",
    "    for idx, feature in enumerate(features):\n",
    "        example_to_features[feature[\"example_id\"]].append(idx)\n",
    "\n",
    "    predicted_answers = []\n",
    "    for example in tqdm(examples, desc=\"Computing metrics\"):\n",
    "        example_id = example[\"id\"]\n",
    "        context = example[\"context\"]\n",
    "        answers = []\n",
    "\n",
    "        # Loop through all features associated with that example\n",
    "        for feature_index in example_to_features[example_id]:\n",
    "            start_logit = start_logits[feature_index]\n",
    "            end_logit = end_logits[feature_index]\n",
    "            offsets = features[feature_index][\"offset_mapping\"]\n",
    "\n",
    "            start_indexes = np.argsort(start_logit)[-1 : -n_best - 1 : -1].tolist()\n",
    "            end_indexes = np.argsort(end_logit)[-1 : -n_best - 1 : -1].tolist()\n",
    "            for start_index in start_indexes:\n",
    "                for end_index in end_indexes:\n",
    "                    # Skip answers that are not fully in the context\n",
    "                    if offsets[start_index] is None or offsets[end_index] is None:\n",
    "                        continue\n",
    "                    # Skip answers with a length that is either < 0 or > max_answer_length\n",
    "                    if (\n",
    "                        end_index < start_index\n",
    "                        or end_index - start_index + 1 > max_answer_length\n",
    "                    ):\n",
    "                        continue\n",
    "\n",
    "                    answer = {\n",
    "                        \"text\": context[offsets[start_index][0] : offsets[end_index][1]],\n",
    "                        \"logit_score\": start_logit[start_index] + end_logit[end_index],\n",
    "                    }\n",
    "                    answers.append(answer)\n",
    "\n",
    "        # Select the answer with the best score\n",
    "        if len(answers) > 0:\n",
    "            best_answer = max(answers, key=lambda x: x[\"logit_score\"])\n",
    "            predicted_answers.append(\n",
    "                {\"id\": example_id, \"prediction_text\": best_answer[\"text\"]}\n",
    "            )\n",
    "        else:\n",
    "            predicted_answers.append({\"id\": example_id, \"prediction_text\": \"\"})\n",
    "\n",
    "    theoretical_answers = [{\"id\": ex[\"id\"], \"answers\": ex[\"answers\"]} for ex in examples]\n",
    "    return metric.compute(predictions=predicted_answers, references=theoretical_answers)"
   ]
  },
  {
   "cell_type": "markdown",
   "metadata": {},
   "source": [
    "# src/preprocessing.py"
   ]
  },
  {
   "cell_type": "code",
   "execution_count": 4,
   "metadata": {
    "execution": {
     "iopub.execute_input": "2025-09-10T14:29:18.276553Z",
     "iopub.status.busy": "2025-09-10T14:29:18.275913Z",
     "iopub.status.idle": "2025-09-10T14:29:18.290684Z",
     "shell.execute_reply": "2025-09-10T14:29:18.289627Z",
     "shell.execute_reply.started": "2025-09-10T14:29:18.276531Z"
    },
    "trusted": true
   },
   "outputs": [],
   "source": [
    "from transformers import AutoTokenizer\n",
    "from datasets import Dataset\n",
    "from typing import Dict, List, Any\n",
    "import collections\n",
    "\n",
    "class DataPreprocessor:\n",
    "    def __init__(self, model_checkpoint: str = \"bert-base-cased\", max_length: int = 384, stride: int = 128):\n",
    "        self.tokenizer = AutoTokenizer.from_pretrained(model_checkpoint)\n",
    "        self.max_length = max_length\n",
    "        self.stride = stride\n",
    "    \n",
    "    def preprocess_training_examples(self, examples: Dict[str, List]) -> Dict[str, List]:\n",
    "        questions = [q.strip() for q in examples[\"question\"]]\n",
    "        inputs = self.tokenizer(\n",
    "            questions,\n",
    "            examples[\"context\"],\n",
    "            max_length=self.max_length,\n",
    "            truncation=\"only_second\",\n",
    "            stride=self.stride,\n",
    "            return_overflowing_tokens=True,\n",
    "            return_offsets_mapping=True,\n",
    "            padding=\"max_length\",\n",
    "        )\n",
    "\n",
    "        offset_mapping = inputs.pop(\"offset_mapping\")\n",
    "        sample_map = inputs.pop(\"overflow_to_sample_mapping\")\n",
    "        answers = examples[\"answers\"]\n",
    "        start_positions = []\n",
    "        end_positions = []\n",
    "\n",
    "        for i, offset in enumerate(offset_mapping):\n",
    "            sample_idx = sample_map[i]\n",
    "            answer = answers[sample_idx]\n",
    "            start_char = answer[\"answer_start\"][0]\n",
    "            end_char = answer[\"answer_start\"][0] + len(answer[\"text\"][0])\n",
    "            sequence_ids = inputs.sequence_ids(i)\n",
    "\n",
    "            # Find the start and end of the context\n",
    "            idx = 0\n",
    "            while sequence_ids[idx] != 1:\n",
    "                idx += 1\n",
    "            context_start = idx\n",
    "            while sequence_ids[idx] == 1:\n",
    "                idx += 1\n",
    "            context_end = idx - 1\n",
    "\n",
    "            # If the answer is not fully inside the context, label is (0, 0)\n",
    "            if offset[context_start][0] > start_char or offset[context_end][1] < end_char:\n",
    "                start_positions.append(0)\n",
    "                end_positions.append(0)\n",
    "            else:\n",
    "                # Otherwise it's the start and end token positions\n",
    "                idx = context_start\n",
    "                while idx <= context_end and offset[idx][0] <= start_char:\n",
    "                    idx += 1\n",
    "                start_positions.append(idx - 1)\n",
    "\n",
    "                idx = context_end\n",
    "                while idx >= context_start and offset[idx][1] >= end_char:\n",
    "                    idx -= 1\n",
    "                end_positions.append(idx + 1)\n",
    "\n",
    "        inputs[\"start_positions\"] = start_positions\n",
    "        inputs[\"end_positions\"] = end_positions\n",
    "        return inputs\n",
    "\n",
    "    def preprocess_validation_examples(self, examples: Dict[str, List]) -> Dict[str, List]:\n",
    "        questions = [q.strip() for q in examples[\"question\"]]\n",
    "        inputs = self.tokenizer(\n",
    "            questions,\n",
    "            examples[\"context\"],\n",
    "            max_length=self.max_length,\n",
    "            truncation=\"only_second\",\n",
    "            stride=self.stride,\n",
    "            return_overflowing_tokens=True,\n",
    "            return_offsets_mapping=True,\n",
    "            padding=\"max_length\",\n",
    "        )\n",
    "\n",
    "        sample_map = inputs.pop(\"overflow_to_sample_mapping\")\n",
    "        example_ids = []\n",
    "\n",
    "        for i in range(len(inputs[\"input_ids\"])):\n",
    "            sample_idx = sample_map[i]\n",
    "            example_ids.append(examples[\"id\"][sample_idx])\n",
    "\n",
    "            sequence_ids = inputs.sequence_ids(i)\n",
    "            offset = inputs[\"offset_mapping\"][i]\n",
    "            inputs[\"offset_mapping\"][i] = [\n",
    "                o if sequence_ids[k] == 1 else None for k, o in enumerate(offset)\n",
    "            ]\n",
    "\n",
    "        inputs[\"example_id\"] = example_ids\n",
    "        return inputs\n",
    "\n",
    "    def prepare_datasets(self, raw_datasets: Dict[str, Dataset]) -> Dict[str, Dataset]:\n",
    "        train_dataset = raw_datasets[\"train\"].map(\n",
    "            self.preprocess_training_examples,\n",
    "            batched=True,\n",
    "            remove_columns=raw_datasets[\"train\"].column_names,\n",
    "        )\n",
    "        \n",
    "        validation_dataset = raw_datasets[\"validation\"].map(\n",
    "            self.preprocess_validation_examples,\n",
    "            batched=True,\n",
    "            remove_columns=raw_datasets[\"validation\"].column_names,\n",
    "        )\n",
    "        \n",
    "        return {\n",
    "            \"train\": train_dataset,\n",
    "            \"validation\": validation_dataset\n",
    "        }"
   ]
  },
  {
   "cell_type": "markdown",
   "metadata": {},
   "source": [
    "# src/train.py"
   ]
  },
  {
   "cell_type": "code",
   "execution_count": 5,
   "metadata": {
    "execution": {
     "iopub.execute_input": "2025-09-10T14:29:18.293173Z",
     "iopub.status.busy": "2025-09-10T14:29:18.292846Z",
     "iopub.status.idle": "2025-09-10T14:29:18.421443Z",
     "shell.execute_reply": "2025-09-10T14:29:18.420579Z",
     "shell.execute_reply.started": "2025-09-10T14:29:18.293149Z"
    },
    "trusted": true
   },
   "outputs": [],
   "source": [
    "from accelerate import Accelerator\n",
    "from transformers import get_scheduler\n",
    "from torch.optim import AdamW\n",
    "from torch.utils.data import DataLoader\n",
    "from transformers import default_data_collator\n",
    "from tqdm.auto import tqdm\n",
    "import torch\n",
    "import numpy as np\n",
    "from typing import Dict, Any\n",
    "\n",
    "class Trainer:\n",
    "    def __init__(self, config: Dict[str, Any]):\n",
    "        self.config = config\n",
    "        self.model, self.tokenizer, self.device = get_model_and_tokenizer(\n",
    "            config.get(\"model_checkpoint\", \"bert-base-cased\")\n",
    "        )\n",
    "        \n",
    "    def setup_training(self, train_dataset, validation_dataset):\n",
    "        train_dataset.set_format(\"torch\")\n",
    "        validation_set = validation_dataset.remove_columns([\"example_id\", \"offset_mapping\"])\n",
    "        validation_set.set_format(\"torch\")\n",
    "\n",
    "        self.train_dataloader = DataLoader(\n",
    "            train_dataset,\n",
    "            shuffle=True,\n",
    "            collate_fn=default_data_collator,\n",
    "            batch_size=self.config.get(\"batch_size\", 8),\n",
    "        )\n",
    "        self.eval_dataloader = DataLoader(\n",
    "            validation_set, collate_fn=default_data_collator, batch_size=self.config.get(\"batch_size\", 8)\n",
    "        )\n",
    "\n",
    "        self.optimizer = AdamW(self.model.parameters(), lr=self.config.get(\"learning_rate\", 2e-5))\n",
    "        self.accelerator = Accelerator(mixed_precision=self.config.get(\"mixed_precision\", \"fp16\"))\n",
    "        \n",
    "        self.model, self.optimizer, self.train_dataloader, self.eval_dataloader = self.accelerator.prepare(\n",
    "            self.model, self.optimizer, self.train_dataloader, self.eval_dataloader\n",
    "        )\n",
    "\n",
    "        num_train_epochs = self.config.get(\"num_epochs\", 3)\n",
    "        num_update_steps_per_epoch = len(self.train_dataloader)\n",
    "        num_training_steps = num_train_epochs * num_update_steps_per_epoch\n",
    "\n",
    "        self.lr_scheduler = get_scheduler(\n",
    "            \"linear\",\n",
    "            optimizer=self.optimizer,\n",
    "            num_warmup_steps=self.config.get(\"warmup_steps\", 0),\n",
    "            num_training_steps=num_training_steps,\n",
    "        )\n",
    "        \n",
    "        self.output_dir = self.config.get(\"output_dir\", \"bert-finetuned-squad-accelerate\")\n",
    "        self.progress_bar = tqdm(range(num_training_steps))\n",
    "        \n",
    "    def train_epoch(self, epoch: int):\n",
    "        self.model.train()\n",
    "        for step, batch in enumerate(self.train_dataloader):\n",
    "            outputs = self.model(**batch)\n",
    "            loss = outputs.loss\n",
    "            self.accelerator.backward(loss)\n",
    "\n",
    "            self.optimizer.step()\n",
    "            self.lr_scheduler.step()\n",
    "            self.optimizer.zero_grad()\n",
    "            self.progress_bar.update(1)\n",
    "            \n",
    "            if step % self.config.get(\"logging_steps\", 1000) == 0:\n",
    "                print(f\"Epoch {epoch}, Step {step}, Loss: {loss.item():.4f}\")\n",
    "    \n",
    "    def evaluate(self, validation_dataset, raw_validation_dataset):\n",
    "        self.model.eval()\n",
    "        start_logits = []\n",
    "        end_logits = []\n",
    "        \n",
    "        for batch in tqdm(self.eval_dataloader, desc=\"Evaluating\"):\n",
    "            with torch.no_grad():\n",
    "                outputs = self.model(**batch)\n",
    "\n",
    "            start_logits.append(self.accelerator.gather(outputs.start_logits).cpu().numpy())\n",
    "            end_logits.append(self.accelerator.gather(outputs.end_logits).cpu().numpy())\n",
    "\n",
    "        start_logits = np.concatenate(start_logits)\n",
    "        end_logits = np.concatenate(end_logits)\n",
    "        start_logits = start_logits[: len(validation_dataset)]\n",
    "        end_logits = end_logits[: len(validation_dataset)]\n",
    "\n",
    "        metrics = compute_metrics(\n",
    "            start_logits, end_logits, validation_dataset, raw_validation_dataset\n",
    "        )\n",
    "        return metrics\n",
    "    \n",
    "    def save_model(self):\n",
    "        self.accelerator.wait_for_everyone()\n",
    "        unwrapped_model = self.accelerator.unwrap_model(self.model)\n",
    "        unwrapped_model.save_pretrained(self.output_dir, save_function=self.accelerator.save)\n",
    "        if self.accelerator.is_main_process:\n",
    "            self.tokenizer.save_pretrained(self.output_dir)\n",
    "    \n",
    "    def train(self, train_dataset, validation_dataset, raw_validation_dataset):\n",
    "        self.setup_training(train_dataset, validation_dataset)\n",
    "        \n",
    "        for epoch in range(self.config.get(\"num_epochs\", 3)):\n",
    "            print(f\"Starting epoch {epoch + 1}\")\n",
    "            self.train_epoch(epoch)\n",
    "            \n",
    "            print(\"Running evaluation...\")\n",
    "            metrics = self.evaluate(validation_dataset, raw_validation_dataset)\n",
    "            print(f\"Epoch {epoch} metrics:\", metrics)\n",
    "            \n",
    "            # Save checkpoint after each epoch\n",
    "            self.save_model()\n",
    "        \n",
    "        print(\"Training completed!\")"
   ]
  },
  {
   "cell_type": "markdown",
   "metadata": {},
   "source": [
    "# tests/evaluate.py"
   ]
  },
  {
   "cell_type": "code",
   "execution_count": 6,
   "metadata": {
    "execution": {
     "iopub.execute_input": "2025-09-10T14:29:18.422702Z",
     "iopub.status.busy": "2025-09-10T14:29:18.422380Z",
     "iopub.status.idle": "2025-09-10T14:29:18.429979Z",
     "shell.execute_reply": "2025-09-10T14:29:18.429167Z",
     "shell.execute_reply.started": "2025-09-10T14:29:18.422675Z"
    },
    "trusted": true
   },
   "outputs": [],
   "source": [
    "import torch\n",
    "from transformers import pipeline\n",
    "\n",
    "def evaluate_model_on_sample(model_path: str, dataset, sample_index: int = 0):\n",
    "    \"\"\"Evaluate the model on a single sample from the dataset\"\"\"\n",
    "    model, tokenizer, device = load_fine_tuned_model(model_path)\n",
    "    \n",
    "    sample = dataset[sample_index]\n",
    "    context = sample[\"context\"]\n",
    "    question = sample[\"question\"]\n",
    "    \n",
    "    question_answerer = pipeline(\"question-answering\", model=model_path, tokenizer=tokenizer)\n",
    "    \n",
    "    print(\"Question:\", question)\n",
    "    print(\"Context:\", context[:200], \"...\")\n",
    "    \n",
    "    result = question_answerer(question=question, context=context)\n",
    "    print(\"Predicted answer:\", result[\"answer\"])\n",
    "    print(\"Ground truth:\", sample[\"answers\"])\n",
    "    \n",
    "    return result\n",
    "\n",
    "def batch_evaluate(model_path: str, dataset, num_samples: int = 5):\n",
    "    \"\"\"Evaluate the model on multiple samples\"\"\"\n",
    "    results = []\n",
    "    for i in range(min(num_samples, len(dataset))):\n",
    "        print(f\"\\n--- Sample {i+1} ---\")\n",
    "        result = evaluate_model_on_sample(model_path, dataset, i)\n",
    "        results.append(result)\n",
    "    \n",
    "    return results"
   ]
  },
  {
   "cell_type": "markdown",
   "metadata": {},
   "source": [
    "# src/main.py"
   ]
  },
  {
   "cell_type": "code",
   "execution_count": 7,
   "metadata": {
    "execution": {
     "iopub.execute_input": "2025-09-10T14:29:18.431084Z",
     "iopub.status.busy": "2025-09-10T14:29:18.430766Z",
     "iopub.status.idle": "2025-09-10T14:30:19.366977Z",
     "shell.execute_reply": "2025-09-10T14:30:19.366123Z",
     "shell.execute_reply.started": "2025-09-10T14:29:18.431062Z"
    },
    "trusted": true
   },
   "outputs": [
    {
     "name": "stdout",
     "output_type": "stream",
     "text": [
      "Loading dataset...\n"
     ]
    },
    {
     "data": {
      "application/vnd.jupyter.widget-view+json": {
       "model_id": "107e8348cb264a22ac08c48b711da4f1",
       "version_major": 2,
       "version_minor": 0
      },
      "text/plain": [
       "README.md: 0.00B [00:00, ?B/s]"
      ]
     },
     "metadata": {},
     "output_type": "display_data"
    },
    {
     "data": {
      "application/vnd.jupyter.widget-view+json": {
       "model_id": "9467b835f5cf4a4ea999086b51a8c503",
       "version_major": 2,
       "version_minor": 0
      },
      "text/plain": [
       "plain_text/train-00000-of-00001.parquet:   0%|          | 0.00/14.5M [00:00<?, ?B/s]"
      ]
     },
     "metadata": {},
     "output_type": "display_data"
    },
    {
     "data": {
      "application/vnd.jupyter.widget-view+json": {
       "model_id": "cb93746b68a2468abeca05ce30d67750",
       "version_major": 2,
       "version_minor": 0
      },
      "text/plain": [
       "plain_text/validation-00000-of-00001.par(…):   0%|          | 0.00/1.82M [00:00<?, ?B/s]"
      ]
     },
     "metadata": {},
     "output_type": "display_data"
    },
    {
     "data": {
      "application/vnd.jupyter.widget-view+json": {
       "model_id": "898977ee85934c6f8eaccee7859f09a1",
       "version_major": 2,
       "version_minor": 0
      },
      "text/plain": [
       "Generating train split:   0%|          | 0/87599 [00:00<?, ? examples/s]"
      ]
     },
     "metadata": {},
     "output_type": "display_data"
    },
    {
     "data": {
      "application/vnd.jupyter.widget-view+json": {
       "model_id": "c718a6a179ed4a70b80fbdfe67658867",
       "version_major": 2,
       "version_minor": 0
      },
      "text/plain": [
       "Generating validation split:   0%|          | 0/10570 [00:00<?, ? examples/s]"
      ]
     },
     "metadata": {},
     "output_type": "display_data"
    },
    {
     "name": "stdout",
     "output_type": "stream",
     "text": [
      "Preprocessing data...\n"
     ]
    },
    {
     "data": {
      "application/vnd.jupyter.widget-view+json": {
       "model_id": "30665cacb8f148bf85f93133f29faf62",
       "version_major": 2,
       "version_minor": 0
      },
      "text/plain": [
       "tokenizer_config.json:   0%|          | 0.00/49.0 [00:00<?, ?B/s]"
      ]
     },
     "metadata": {},
     "output_type": "display_data"
    },
    {
     "data": {
      "application/vnd.jupyter.widget-view+json": {
       "model_id": "35bb796bb3af4baca9973c9032353697",
       "version_major": 2,
       "version_minor": 0
      },
      "text/plain": [
       "config.json:   0%|          | 0.00/570 [00:00<?, ?B/s]"
      ]
     },
     "metadata": {},
     "output_type": "display_data"
    },
    {
     "data": {
      "application/vnd.jupyter.widget-view+json": {
       "model_id": "5e8832f1cce14be6b496caa484d97242",
       "version_major": 2,
       "version_minor": 0
      },
      "text/plain": [
       "vocab.txt:   0%|          | 0.00/213k [00:00<?, ?B/s]"
      ]
     },
     "metadata": {},
     "output_type": "display_data"
    },
    {
     "data": {
      "application/vnd.jupyter.widget-view+json": {
       "model_id": "0d2bbc14e64042739238c3dbc07e0fa6",
       "version_major": 2,
       "version_minor": 0
      },
      "text/plain": [
       "tokenizer.json:   0%|          | 0.00/436k [00:00<?, ?B/s]"
      ]
     },
     "metadata": {},
     "output_type": "display_data"
    },
    {
     "data": {
      "application/vnd.jupyter.widget-view+json": {
       "model_id": "73c116be67eb474fae7b4158794d5291",
       "version_major": 2,
       "version_minor": 0
      },
      "text/plain": [
       "Map:   0%|          | 0/87599 [00:00<?, ? examples/s]"
      ]
     },
     "metadata": {},
     "output_type": "display_data"
    },
    {
     "data": {
      "application/vnd.jupyter.widget-view+json": {
       "model_id": "2aac2dd00c374163adf7d2ca9ea8791b",
       "version_major": 2,
       "version_minor": 0
      },
      "text/plain": [
       "Map:   0%|          | 0/10570 [00:00<?, ? examples/s]"
      ]
     },
     "metadata": {},
     "output_type": "display_data"
    }
   ],
   "source": [
    "from datasets import load_dataset\n",
    "\n",
    "# Load dataset\n",
    "print(\"Loading dataset...\")\n",
    "raw_datasets = load_dataset(\"squad\")\n",
    "    \n",
    "# Preprocess data\n",
    "print(\"Preprocessing data...\")\n",
    "preprocessor = DataPreprocessor(model_checkpoint=\"bert-base-cased\")\n",
    "processed_datasets = preprocessor.prepare_datasets(raw_datasets)\n",
    "    \n",
    "# Training configuration\n",
    "config = {\n",
    "        \"model_checkpoint\": \"bert-base-cased\",\n",
    "        \"batch_size\": 8,\n",
    "        \"learning_rate\": 2e-5,\n",
    "        \"num_epochs\": 3,\n",
    "        \"output_dir\": \"bert-finetuned-squad-accelerate\",\n",
    "        \"mixed_precision\": \"fp16\",\n",
    "        \"warmup_steps\": 0,\n",
    "        \"logging_steps\": 100\n",
    "}"
   ]
  },
  {
   "cell_type": "code",
   "execution_count": 8,
   "metadata": {
    "execution": {
     "iopub.execute_input": "2025-09-10T14:30:19.368163Z",
     "iopub.status.busy": "2025-09-10T14:30:19.367897Z",
     "iopub.status.idle": "2025-09-10T17:30:58.147840Z",
     "shell.execute_reply": "2025-09-10T17:30:58.146859Z",
     "shell.execute_reply.started": "2025-09-10T14:30:19.368130Z"
    },
    "trusted": true
   },
   "outputs": [
    {
     "name": "stdout",
     "output_type": "stream",
     "text": [
      "Starting training...\n"
     ]
    },
    {
     "data": {
      "application/vnd.jupyter.widget-view+json": {
       "model_id": "de7c2c61be1f47e1a5bbc528d2160132",
       "version_major": 2,
       "version_minor": 0
      },
      "text/plain": [
       "model.safetensors:   0%|          | 0.00/436M [00:00<?, ?B/s]"
      ]
     },
     "metadata": {},
     "output_type": "display_data"
    },
    {
     "name": "stderr",
     "output_type": "stream",
     "text": [
      "Some weights of BertForQuestionAnswering were not initialized from the model checkpoint at bert-base-cased and are newly initialized: ['qa_outputs.bias', 'qa_outputs.weight']\n",
      "You should probably TRAIN this model on a down-stream task to be able to use it for predictions and inference.\n"
     ]
    },
    {
     "data": {
      "application/vnd.jupyter.widget-view+json": {
       "model_id": "8d32e8b1dfea4949bfe98ae75a2965a7",
       "version_major": 2,
       "version_minor": 0
      },
      "text/plain": [
       "  0%|          | 0/33276 [00:00<?, ?it/s]"
      ]
     },
     "metadata": {},
     "output_type": "display_data"
    },
    {
     "name": "stdout",
     "output_type": "stream",
     "text": [
      "Starting epoch 1\n",
      "Epoch 0, Step 0, Loss: 5.9636\n",
      "Epoch 0, Step 100, Loss: 1.9534\n",
      "Epoch 0, Step 200, Loss: 2.4159\n",
      "Epoch 0, Step 300, Loss: 1.6487\n",
      "Epoch 0, Step 400, Loss: 1.6314\n",
      "Epoch 0, Step 500, Loss: 1.9304\n",
      "Epoch 0, Step 600, Loss: 0.8628\n",
      "Epoch 0, Step 700, Loss: 1.4906\n",
      "Epoch 0, Step 800, Loss: 1.1639\n",
      "Epoch 0, Step 900, Loss: 0.9081\n",
      "Epoch 0, Step 1000, Loss: 1.6234\n",
      "Epoch 0, Step 1100, Loss: 1.0068\n",
      "Epoch 0, Step 1200, Loss: 1.1190\n",
      "Epoch 0, Step 1300, Loss: 2.4299\n",
      "Epoch 0, Step 1400, Loss: 1.1795\n",
      "Epoch 0, Step 1500, Loss: 0.4383\n",
      "Epoch 0, Step 1600, Loss: 1.4404\n",
      "Epoch 0, Step 1700, Loss: 1.6171\n",
      "Epoch 0, Step 1800, Loss: 1.2412\n",
      "Epoch 0, Step 1900, Loss: 0.7952\n",
      "Epoch 0, Step 2000, Loss: 0.9616\n",
      "Epoch 0, Step 2100, Loss: 1.1313\n",
      "Epoch 0, Step 2200, Loss: 1.1318\n",
      "Epoch 0, Step 2300, Loss: 1.4847\n",
      "Epoch 0, Step 2400, Loss: 0.8708\n",
      "Epoch 0, Step 2500, Loss: 0.3251\n",
      "Epoch 0, Step 2600, Loss: 1.1906\n",
      "Epoch 0, Step 2700, Loss: 1.4669\n",
      "Epoch 0, Step 2800, Loss: 1.1511\n",
      "Epoch 0, Step 2900, Loss: 0.9333\n",
      "Epoch 0, Step 3000, Loss: 1.0017\n",
      "Epoch 0, Step 3100, Loss: 0.8030\n",
      "Epoch 0, Step 3200, Loss: 1.7373\n",
      "Epoch 0, Step 3300, Loss: 0.2374\n",
      "Epoch 0, Step 3400, Loss: 1.2982\n",
      "Epoch 0, Step 3500, Loss: 0.8593\n",
      "Epoch 0, Step 3600, Loss: 0.8093\n",
      "Epoch 0, Step 3700, Loss: 0.5884\n",
      "Epoch 0, Step 3800, Loss: 0.5247\n",
      "Epoch 0, Step 3900, Loss: 0.6069\n",
      "Epoch 0, Step 4000, Loss: 2.2797\n",
      "Epoch 0, Step 4100, Loss: 0.3000\n",
      "Epoch 0, Step 4200, Loss: 0.7274\n",
      "Epoch 0, Step 4300, Loss: 0.8291\n",
      "Epoch 0, Step 4400, Loss: 0.8889\n",
      "Epoch 0, Step 4500, Loss: 1.4474\n",
      "Epoch 0, Step 4600, Loss: 1.8099\n",
      "Epoch 0, Step 4700, Loss: 0.3338\n",
      "Epoch 0, Step 4800, Loss: 1.2389\n",
      "Epoch 0, Step 4900, Loss: 1.2745\n",
      "Epoch 0, Step 5000, Loss: 1.5734\n",
      "Epoch 0, Step 5100, Loss: 1.0903\n",
      "Epoch 0, Step 5200, Loss: 0.4736\n",
      "Epoch 0, Step 5300, Loss: 0.4632\n",
      "Epoch 0, Step 5400, Loss: 1.2302\n",
      "Epoch 0, Step 5500, Loss: 1.2585\n",
      "Epoch 0, Step 5600, Loss: 1.8212\n",
      "Epoch 0, Step 5700, Loss: 1.1178\n",
      "Epoch 0, Step 5800, Loss: 0.7531\n",
      "Epoch 0, Step 5900, Loss: 1.0147\n",
      "Epoch 0, Step 6000, Loss: 0.5704\n",
      "Epoch 0, Step 6100, Loss: 0.5955\n",
      "Epoch 0, Step 6200, Loss: 1.2000\n",
      "Epoch 0, Step 6300, Loss: 1.0329\n",
      "Epoch 0, Step 6400, Loss: 0.9083\n",
      "Epoch 0, Step 6500, Loss: 0.3630\n",
      "Epoch 0, Step 6600, Loss: 1.7531\n",
      "Epoch 0, Step 6700, Loss: 1.1267\n",
      "Epoch 0, Step 6800, Loss: 1.1774\n",
      "Epoch 0, Step 6900, Loss: 1.6313\n",
      "Epoch 0, Step 7000, Loss: 1.3636\n",
      "Epoch 0, Step 7100, Loss: 1.4067\n",
      "Epoch 0, Step 7200, Loss: 0.8470\n",
      "Epoch 0, Step 7300, Loss: 1.1722\n",
      "Epoch 0, Step 7400, Loss: 1.9855\n",
      "Epoch 0, Step 7500, Loss: 0.9564\n",
      "Epoch 0, Step 7600, Loss: 0.9076\n",
      "Epoch 0, Step 7700, Loss: 0.3671\n",
      "Epoch 0, Step 7800, Loss: 0.3507\n",
      "Epoch 0, Step 7900, Loss: 0.7174\n",
      "Epoch 0, Step 8000, Loss: 1.9382\n",
      "Epoch 0, Step 8100, Loss: 1.0570\n",
      "Epoch 0, Step 8200, Loss: 0.5858\n",
      "Epoch 0, Step 8300, Loss: 0.9237\n",
      "Epoch 0, Step 8400, Loss: 1.7048\n",
      "Epoch 0, Step 8500, Loss: 0.3306\n",
      "Epoch 0, Step 8600, Loss: 0.4452\n",
      "Epoch 0, Step 8700, Loss: 1.3191\n",
      "Epoch 0, Step 8800, Loss: 1.2855\n",
      "Epoch 0, Step 8900, Loss: 1.2854\n",
      "Epoch 0, Step 9000, Loss: 1.5219\n",
      "Epoch 0, Step 9100, Loss: 0.9014\n",
      "Epoch 0, Step 9200, Loss: 1.1118\n",
      "Epoch 0, Step 9300, Loss: 1.0432\n",
      "Epoch 0, Step 9400, Loss: 1.0206\n",
      "Epoch 0, Step 9500, Loss: 0.6286\n",
      "Epoch 0, Step 9600, Loss: 1.3029\n",
      "Epoch 0, Step 9700, Loss: 0.8654\n",
      "Epoch 0, Step 9800, Loss: 0.7345\n",
      "Epoch 0, Step 9900, Loss: 1.0420\n",
      "Epoch 0, Step 10000, Loss: 0.8353\n",
      "Epoch 0, Step 10100, Loss: 0.5507\n",
      "Epoch 0, Step 10200, Loss: 1.4892\n",
      "Epoch 0, Step 10300, Loss: 1.5084\n",
      "Epoch 0, Step 10400, Loss: 0.6185\n",
      "Epoch 0, Step 10500, Loss: 0.9957\n",
      "Epoch 0, Step 10600, Loss: 0.9652\n",
      "Epoch 0, Step 10700, Loss: 1.1672\n",
      "Epoch 0, Step 10800, Loss: 1.1907\n",
      "Epoch 0, Step 10900, Loss: 0.4451\n",
      "Epoch 0, Step 11000, Loss: 0.2723\n",
      "Running evaluation...\n"
     ]
    },
    {
     "data": {
      "application/vnd.jupyter.widget-view+json": {
       "model_id": "216b8be9ca8244e29e3ff112e9379af5",
       "version_major": 2,
       "version_minor": 0
      },
      "text/plain": [
       "Evaluating:   0%|          | 0/1353 [00:00<?, ?it/s]"
      ]
     },
     "metadata": {},
     "output_type": "display_data"
    },
    {
     "data": {
      "application/vnd.jupyter.widget-view+json": {
       "model_id": "c772518928654fe4a6874beb8519a063",
       "version_major": 2,
       "version_minor": 0
      },
      "text/plain": [
       "Downloading builder script: 0.00B [00:00, ?B/s]"
      ]
     },
     "metadata": {},
     "output_type": "display_data"
    },
    {
     "data": {
      "application/vnd.jupyter.widget-view+json": {
       "model_id": "cc19a5b163804cb69f972adafff11fb1",
       "version_major": 2,
       "version_minor": 0
      },
      "text/plain": [
       "Downloading extra modules: 0.00B [00:00, ?B/s]"
      ]
     },
     "metadata": {},
     "output_type": "display_data"
    },
    {
     "data": {
      "application/vnd.jupyter.widget-view+json": {
       "model_id": "3be00da84286469b8a74fe0c7463d112",
       "version_major": 2,
       "version_minor": 0
      },
      "text/plain": [
       "Computing metrics:   0%|          | 0/10570 [00:00<?, ?it/s]"
      ]
     },
     "metadata": {},
     "output_type": "display_data"
    },
    {
     "name": "stdout",
     "output_type": "stream",
     "text": [
      "Epoch 0 metrics: {'exact_match': 79.68779564806054, 'f1': 87.45568714195367}\n",
      "Starting epoch 2\n",
      "Epoch 1, Step 0, Loss: 0.7739\n",
      "Epoch 1, Step 100, Loss: 0.4424\n",
      "Epoch 1, Step 200, Loss: 0.1529\n",
      "Epoch 1, Step 300, Loss: 0.8527\n",
      "Epoch 1, Step 400, Loss: 0.9178\n",
      "Epoch 1, Step 500, Loss: 1.0688\n",
      "Epoch 1, Step 600, Loss: 1.3953\n",
      "Epoch 1, Step 700, Loss: 0.6954\n",
      "Epoch 1, Step 800, Loss: 0.5115\n",
      "Epoch 1, Step 900, Loss: 0.6684\n",
      "Epoch 1, Step 1000, Loss: 0.4616\n",
      "Epoch 1, Step 1100, Loss: 0.5031\n",
      "Epoch 1, Step 1200, Loss: 0.4162\n",
      "Epoch 1, Step 1300, Loss: 0.7286\n",
      "Epoch 1, Step 1400, Loss: 0.3105\n",
      "Epoch 1, Step 1500, Loss: 0.0968\n",
      "Epoch 1, Step 1600, Loss: 0.2278\n",
      "Epoch 1, Step 1700, Loss: 0.6992\n",
      "Epoch 1, Step 1800, Loss: 0.7637\n",
      "Epoch 1, Step 1900, Loss: 0.5951\n",
      "Epoch 1, Step 2000, Loss: 0.5828\n",
      "Epoch 1, Step 2100, Loss: 0.3203\n",
      "Epoch 1, Step 2200, Loss: 0.4728\n",
      "Epoch 1, Step 2300, Loss: 0.4529\n",
      "Epoch 1, Step 2400, Loss: 1.4316\n",
      "Epoch 1, Step 2500, Loss: 0.6368\n",
      "Epoch 1, Step 2600, Loss: 0.9069\n",
      "Epoch 1, Step 2700, Loss: 0.2592\n",
      "Epoch 1, Step 2800, Loss: 1.5077\n",
      "Epoch 1, Step 2900, Loss: 0.9937\n",
      "Epoch 1, Step 3000, Loss: 0.6517\n",
      "Epoch 1, Step 3100, Loss: 0.6514\n",
      "Epoch 1, Step 3200, Loss: 0.8970\n",
      "Epoch 1, Step 3300, Loss: 0.5961\n",
      "Epoch 1, Step 3400, Loss: 0.2128\n",
      "Epoch 1, Step 3500, Loss: 0.2432\n",
      "Epoch 1, Step 3600, Loss: 0.8626\n",
      "Epoch 1, Step 3700, Loss: 0.5682\n",
      "Epoch 1, Step 3800, Loss: 1.5697\n",
      "Epoch 1, Step 3900, Loss: 0.5355\n",
      "Epoch 1, Step 4000, Loss: 0.8329\n",
      "Epoch 1, Step 4100, Loss: 1.4189\n",
      "Epoch 1, Step 4200, Loss: 1.1693\n",
      "Epoch 1, Step 4300, Loss: 0.9584\n",
      "Epoch 1, Step 4400, Loss: 0.5524\n",
      "Epoch 1, Step 4500, Loss: 0.7538\n",
      "Epoch 1, Step 4600, Loss: 0.7815\n",
      "Epoch 1, Step 4700, Loss: 1.0296\n",
      "Epoch 1, Step 4800, Loss: 0.8903\n",
      "Epoch 1, Step 4900, Loss: 0.7275\n",
      "Epoch 1, Step 5000, Loss: 0.7780\n",
      "Epoch 1, Step 5100, Loss: 0.4151\n",
      "Epoch 1, Step 5200, Loss: 1.0319\n",
      "Epoch 1, Step 5300, Loss: 0.8958\n",
      "Epoch 1, Step 5400, Loss: 1.2855\n",
      "Epoch 1, Step 5500, Loss: 0.9201\n",
      "Epoch 1, Step 5600, Loss: 0.7622\n",
      "Epoch 1, Step 5700, Loss: 0.8629\n",
      "Epoch 1, Step 5800, Loss: 0.3113\n",
      "Epoch 1, Step 5900, Loss: 0.4916\n",
      "Epoch 1, Step 6000, Loss: 1.2421\n",
      "Epoch 1, Step 6100, Loss: 1.0584\n",
      "Epoch 1, Step 6200, Loss: 0.6372\n",
      "Epoch 1, Step 6300, Loss: 0.5349\n",
      "Epoch 1, Step 6400, Loss: 2.4118\n",
      "Epoch 1, Step 6500, Loss: 0.7944\n",
      "Epoch 1, Step 6600, Loss: 0.7672\n",
      "Epoch 1, Step 6700, Loss: 0.5607\n",
      "Epoch 1, Step 6800, Loss: 0.4263\n",
      "Epoch 1, Step 6900, Loss: 0.7584\n",
      "Epoch 1, Step 7000, Loss: 0.5683\n",
      "Epoch 1, Step 7100, Loss: 0.5197\n",
      "Epoch 1, Step 7200, Loss: 0.4000\n",
      "Epoch 1, Step 7300, Loss: 0.2681\n",
      "Epoch 1, Step 7400, Loss: 0.5007\n",
      "Epoch 1, Step 7500, Loss: 0.2298\n",
      "Epoch 1, Step 7600, Loss: 0.5448\n",
      "Epoch 1, Step 7700, Loss: 0.7825\n",
      "Epoch 1, Step 7800, Loss: 0.9276\n",
      "Epoch 1, Step 7900, Loss: 0.6053\n",
      "Epoch 1, Step 8000, Loss: 0.3850\n",
      "Epoch 1, Step 8100, Loss: 0.3144\n",
      "Epoch 1, Step 8200, Loss: 0.2115\n",
      "Epoch 1, Step 8300, Loss: 0.5037\n",
      "Epoch 1, Step 8400, Loss: 0.5595\n",
      "Epoch 1, Step 8500, Loss: 0.4747\n",
      "Epoch 1, Step 8600, Loss: 0.2962\n",
      "Epoch 1, Step 8700, Loss: 0.6747\n",
      "Epoch 1, Step 8800, Loss: 0.7342\n",
      "Epoch 1, Step 8900, Loss: 0.6037\n",
      "Epoch 1, Step 9000, Loss: 0.2662\n",
      "Epoch 1, Step 9100, Loss: 1.0131\n",
      "Epoch 1, Step 9200, Loss: 0.5303\n",
      "Epoch 1, Step 9300, Loss: 0.3043\n",
      "Epoch 1, Step 9400, Loss: 0.6920\n",
      "Epoch 1, Step 9500, Loss: 0.4038\n",
      "Epoch 1, Step 9600, Loss: 0.2341\n",
      "Epoch 1, Step 9700, Loss: 1.2872\n",
      "Epoch 1, Step 9800, Loss: 0.4828\n",
      "Epoch 1, Step 9900, Loss: 0.4977\n",
      "Epoch 1, Step 10000, Loss: 0.2681\n",
      "Epoch 1, Step 10100, Loss: 1.2215\n",
      "Epoch 1, Step 10200, Loss: 0.6127\n",
      "Epoch 1, Step 10300, Loss: 0.7963\n",
      "Epoch 1, Step 10400, Loss: 0.2676\n",
      "Epoch 1, Step 10500, Loss: 0.2112\n",
      "Epoch 1, Step 10600, Loss: 0.6920\n",
      "Epoch 1, Step 10700, Loss: 1.2316\n",
      "Epoch 1, Step 10800, Loss: 2.6034\n",
      "Epoch 1, Step 10900, Loss: 0.8564\n",
      "Epoch 1, Step 11000, Loss: 1.0363\n",
      "Running evaluation...\n"
     ]
    },
    {
     "data": {
      "application/vnd.jupyter.widget-view+json": {
       "model_id": "d7bbbe35aa3a4eb2956680f5d076e5e9",
       "version_major": 2,
       "version_minor": 0
      },
      "text/plain": [
       "Evaluating:   0%|          | 0/1353 [00:00<?, ?it/s]"
      ]
     },
     "metadata": {},
     "output_type": "display_data"
    },
    {
     "data": {
      "application/vnd.jupyter.widget-view+json": {
       "model_id": "37917875d72c4c24aca55e86bc7f2a06",
       "version_major": 2,
       "version_minor": 0
      },
      "text/plain": [
       "Computing metrics:   0%|          | 0/10570 [00:00<?, ?it/s]"
      ]
     },
     "metadata": {},
     "output_type": "display_data"
    },
    {
     "name": "stdout",
     "output_type": "stream",
     "text": [
      "Epoch 1 metrics: {'exact_match': 80.85146641438033, 'f1': 88.42013128202687}\n",
      "Starting epoch 3\n",
      "Epoch 2, Step 0, Loss: 0.9548\n",
      "Epoch 2, Step 100, Loss: 0.2694\n",
      "Epoch 2, Step 200, Loss: 0.8582\n",
      "Epoch 2, Step 300, Loss: 0.2784\n",
      "Epoch 2, Step 400, Loss: 0.7177\n",
      "Epoch 2, Step 500, Loss: 0.4609\n",
      "Epoch 2, Step 600, Loss: 0.1685\n",
      "Epoch 2, Step 700, Loss: 0.5787\n",
      "Epoch 2, Step 800, Loss: 0.1948\n",
      "Epoch 2, Step 900, Loss: 0.4291\n",
      "Epoch 2, Step 1000, Loss: 0.3784\n",
      "Epoch 2, Step 1100, Loss: 0.3239\n",
      "Epoch 2, Step 1200, Loss: 0.8043\n",
      "Epoch 2, Step 1300, Loss: 0.5281\n",
      "Epoch 2, Step 1400, Loss: 0.1960\n",
      "Epoch 2, Step 1500, Loss: 0.8635\n",
      "Epoch 2, Step 1600, Loss: 0.3148\n",
      "Epoch 2, Step 1700, Loss: 0.8819\n",
      "Epoch 2, Step 1800, Loss: 0.4452\n",
      "Epoch 2, Step 1900, Loss: 0.5352\n",
      "Epoch 2, Step 2000, Loss: 0.5895\n",
      "Epoch 2, Step 2100, Loss: 0.4872\n",
      "Epoch 2, Step 2200, Loss: 0.7874\n",
      "Epoch 2, Step 2300, Loss: 0.3561\n",
      "Epoch 2, Step 2400, Loss: 0.5715\n",
      "Epoch 2, Step 2500, Loss: 0.6476\n",
      "Epoch 2, Step 2600, Loss: 0.8600\n",
      "Epoch 2, Step 2700, Loss: 0.3998\n",
      "Epoch 2, Step 2800, Loss: 0.5928\n",
      "Epoch 2, Step 2900, Loss: 0.1683\n",
      "Epoch 2, Step 3000, Loss: 0.6963\n",
      "Epoch 2, Step 3100, Loss: 0.6556\n",
      "Epoch 2, Step 3200, Loss: 0.1820\n",
      "Epoch 2, Step 3300, Loss: 0.4459\n",
      "Epoch 2, Step 3400, Loss: 0.6626\n",
      "Epoch 2, Step 3500, Loss: 0.6728\n",
      "Epoch 2, Step 3600, Loss: 0.6521\n",
      "Epoch 2, Step 3700, Loss: 0.3726\n",
      "Epoch 2, Step 3800, Loss: 0.2873\n",
      "Epoch 2, Step 3900, Loss: 1.0615\n",
      "Epoch 2, Step 4000, Loss: 0.7116\n",
      "Epoch 2, Step 4100, Loss: 0.2785\n",
      "Epoch 2, Step 4200, Loss: 0.7386\n",
      "Epoch 2, Step 4300, Loss: 0.2473\n",
      "Epoch 2, Step 4400, Loss: 0.5709\n",
      "Epoch 2, Step 4500, Loss: 0.3527\n",
      "Epoch 2, Step 4600, Loss: 0.4524\n",
      "Epoch 2, Step 4700, Loss: 0.8030\n",
      "Epoch 2, Step 4800, Loss: 0.2516\n",
      "Epoch 2, Step 4900, Loss: 0.2877\n",
      "Epoch 2, Step 5000, Loss: 0.6457\n",
      "Epoch 2, Step 5100, Loss: 0.7346\n",
      "Epoch 2, Step 5200, Loss: 1.0673\n",
      "Epoch 2, Step 5300, Loss: 0.3750\n",
      "Epoch 2, Step 5400, Loss: 0.4493\n",
      "Epoch 2, Step 5500, Loss: 0.7073\n",
      "Epoch 2, Step 5600, Loss: 0.2362\n",
      "Epoch 2, Step 5700, Loss: 0.5244\n",
      "Epoch 2, Step 5800, Loss: 0.5085\n",
      "Epoch 2, Step 5900, Loss: 0.9929\n",
      "Epoch 2, Step 6000, Loss: 0.8004\n",
      "Epoch 2, Step 6100, Loss: 0.5335\n",
      "Epoch 2, Step 6200, Loss: 0.6927\n",
      "Epoch 2, Step 6300, Loss: 0.2459\n",
      "Epoch 2, Step 6400, Loss: 0.5322\n",
      "Epoch 2, Step 6500, Loss: 0.4107\n",
      "Epoch 2, Step 6600, Loss: 0.6873\n",
      "Epoch 2, Step 6700, Loss: 0.3766\n",
      "Epoch 2, Step 6800, Loss: 0.5275\n",
      "Epoch 2, Step 6900, Loss: 0.6127\n",
      "Epoch 2, Step 7000, Loss: 0.1243\n",
      "Epoch 2, Step 7100, Loss: 0.2272\n",
      "Epoch 2, Step 7200, Loss: 0.4765\n",
      "Epoch 2, Step 7300, Loss: 0.2861\n",
      "Epoch 2, Step 7400, Loss: 0.4884\n",
      "Epoch 2, Step 7500, Loss: 0.2468\n",
      "Epoch 2, Step 7600, Loss: 0.1041\n",
      "Epoch 2, Step 7700, Loss: 0.6909\n",
      "Epoch 2, Step 7800, Loss: 0.4698\n",
      "Epoch 2, Step 7900, Loss: 0.0959\n",
      "Epoch 2, Step 8000, Loss: 0.3052\n",
      "Epoch 2, Step 8100, Loss: 0.1675\n",
      "Epoch 2, Step 8200, Loss: 0.2912\n",
      "Epoch 2, Step 8300, Loss: 0.3302\n",
      "Epoch 2, Step 8400, Loss: 0.2868\n",
      "Epoch 2, Step 8500, Loss: 0.5664\n",
      "Epoch 2, Step 8600, Loss: 0.5832\n",
      "Epoch 2, Step 8700, Loss: 0.2122\n",
      "Epoch 2, Step 8800, Loss: 0.5314\n",
      "Epoch 2, Step 8900, Loss: 0.4299\n",
      "Epoch 2, Step 9000, Loss: 0.6127\n",
      "Epoch 2, Step 9100, Loss: 0.1898\n",
      "Epoch 2, Step 9200, Loss: 0.3617\n",
      "Epoch 2, Step 9300, Loss: 0.3341\n",
      "Epoch 2, Step 9400, Loss: 0.7655\n",
      "Epoch 2, Step 9500, Loss: 0.2204\n",
      "Epoch 2, Step 9600, Loss: 0.1465\n",
      "Epoch 2, Step 9700, Loss: 0.3585\n",
      "Epoch 2, Step 9800, Loss: 0.2774\n",
      "Epoch 2, Step 9900, Loss: 0.1380\n",
      "Epoch 2, Step 10000, Loss: 0.4326\n",
      "Epoch 2, Step 10100, Loss: 0.7750\n",
      "Epoch 2, Step 10200, Loss: 0.1446\n",
      "Epoch 2, Step 10300, Loss: 0.9930\n",
      "Epoch 2, Step 10400, Loss: 0.1659\n",
      "Epoch 2, Step 10500, Loss: 0.1898\n",
      "Epoch 2, Step 10600, Loss: 0.4865\n",
      "Epoch 2, Step 10700, Loss: 0.1162\n",
      "Epoch 2, Step 10800, Loss: 0.3520\n",
      "Epoch 2, Step 10900, Loss: 0.6526\n",
      "Epoch 2, Step 11000, Loss: 0.4702\n",
      "Running evaluation...\n"
     ]
    },
    {
     "data": {
      "application/vnd.jupyter.widget-view+json": {
       "model_id": "0ebb0f9d92b345de9459c1cfdeae99b9",
       "version_major": 2,
       "version_minor": 0
      },
      "text/plain": [
       "Evaluating:   0%|          | 0/1353 [00:00<?, ?it/s]"
      ]
     },
     "metadata": {},
     "output_type": "display_data"
    },
    {
     "data": {
      "application/vnd.jupyter.widget-view+json": {
       "model_id": "13339126ab384287a57a91728586dceb",
       "version_major": 2,
       "version_minor": 0
      },
      "text/plain": [
       "Computing metrics:   0%|          | 0/10570 [00:00<?, ?it/s]"
      ]
     },
     "metadata": {},
     "output_type": "display_data"
    },
    {
     "name": "stdout",
     "output_type": "stream",
     "text": [
      "Epoch 2 metrics: {'exact_match': 80.99337748344371, 'f1': 88.6620765461844}\n",
      "Training completed!\n"
     ]
    }
   ],
   "source": [
    "# Train model\n",
    "print(\"Starting training...\")\n",
    "trainer = Trainer(config)\n",
    "trainer.train(\n",
    "        processed_datasets[\"train\"],\n",
    "        processed_datasets[\"validation\"],\n",
    "        raw_datasets[\"validation\"]\n",
    ")"
   ]
  },
  {
   "cell_type": "code",
   "execution_count": 9,
   "metadata": {
    "execution": {
     "iopub.execute_input": "2025-09-10T17:30:58.149271Z",
     "iopub.status.busy": "2025-09-10T17:30:58.148935Z",
     "iopub.status.idle": "2025-09-10T17:31:01.389751Z",
     "shell.execute_reply": "2025-09-10T17:31:01.388864Z",
     "shell.execute_reply.started": "2025-09-10T17:30:58.149242Z"
    },
    "trusted": true
   },
   "outputs": [
    {
     "name": "stdout",
     "output_type": "stream",
     "text": [
      "\n",
      "Evaluating on sample data...\n",
      "\n",
      "--- Sample 1 ---\n"
     ]
    },
    {
     "name": "stderr",
     "output_type": "stream",
     "text": [
      "Device set to use cuda:0\n"
     ]
    },
    {
     "name": "stdout",
     "output_type": "stream",
     "text": [
      "Question: Which NFL team represented the AFC at Super Bowl 50?\n",
      "Context: Super Bowl 50 was an American football game to determine the champion of the National Football League (NFL) for the 2015 season. The American Football Conference (AFC) champion Denver Broncos defeated ...\n",
      "Predicted answer: Denver Broncos\n",
      "Ground truth: {'text': ['Denver Broncos', 'Denver Broncos', 'Denver Broncos'], 'answer_start': [177, 177, 177]}\n",
      "\n",
      "--- Sample 2 ---\n"
     ]
    },
    {
     "name": "stderr",
     "output_type": "stream",
     "text": [
      "Device set to use cuda:0\n"
     ]
    },
    {
     "name": "stdout",
     "output_type": "stream",
     "text": [
      "Question: Which NFL team represented the NFC at Super Bowl 50?\n",
      "Context: Super Bowl 50 was an American football game to determine the champion of the National Football League (NFL) for the 2015 season. The American Football Conference (AFC) champion Denver Broncos defeated ...\n",
      "Predicted answer: Carolina Panthers\n",
      "Ground truth: {'text': ['Carolina Panthers', 'Carolina Panthers', 'Carolina Panthers'], 'answer_start': [249, 249, 249]}\n",
      "\n",
      "--- Sample 3 ---\n"
     ]
    },
    {
     "name": "stderr",
     "output_type": "stream",
     "text": [
      "Device set to use cuda:0\n"
     ]
    },
    {
     "name": "stdout",
     "output_type": "stream",
     "text": [
      "Question: Where did Super Bowl 50 take place?\n",
      "Context: Super Bowl 50 was an American football game to determine the champion of the National Football League (NFL) for the 2015 season. The American Football Conference (AFC) champion Denver Broncos defeated ...\n",
      "Predicted answer: Levi's Stadium in the San Francisco Bay Area at Santa Clara, California\n",
      "Ground truth: {'text': ['Santa Clara, California', \"Levi's Stadium\", \"Levi's Stadium in the San Francisco Bay Area at Santa Clara, California.\"], 'answer_start': [403, 355, 355]}\n"
     ]
    },
    {
     "data": {
      "text/plain": [
       "[{'score': 0.9579598903656006,\n",
       "  'start': 177,\n",
       "  'end': 191,\n",
       "  'answer': 'Denver Broncos'},\n",
       " {'score': 0.7057539224624634,\n",
       "  'start': 249,\n",
       "  'end': 266,\n",
       "  'answer': 'Carolina Panthers'},\n",
       " {'score': 0.2681267559528351,\n",
       "  'start': 355,\n",
       "  'end': 426,\n",
       "  'answer': \"Levi's Stadium in the San Francisco Bay Area at Santa Clara, California\"}]"
      ]
     },
     "execution_count": 9,
     "metadata": {},
     "output_type": "execute_result"
    }
   ],
   "source": [
    "# Evaluate on a few samples\n",
    "print(\"\\nEvaluating on sample data...\")\n",
    "batch_evaluate(config[\"output_dir\"], raw_datasets[\"validation\"], num_samples=3)"
   ]
  }
 ],
 "metadata": {
  "kaggle": {
   "accelerator": "gpu",
   "dataSources": [],
   "dockerImageVersionId": 31090,
   "isGpuEnabled": true,
   "isInternetEnabled": true,
   "language": "python",
   "sourceType": "notebook"
  },
  "kernelspec": {
   "display_name": "Python 3",
   "language": "python",
   "name": "python3"
  },
  "language_info": {
   "codemirror_mode": {
    "name": "ipython",
    "version": 3
   },
   "file_extension": ".py",
   "mimetype": "text/x-python",
   "name": "python",
   "nbconvert_exporter": "python",
   "pygments_lexer": "ipython3",
   "version": "3.11.13"
  }
 },
 "nbformat": 4,
 "nbformat_minor": 4
}
